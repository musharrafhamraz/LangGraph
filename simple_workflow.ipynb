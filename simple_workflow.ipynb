{
 "cells": [
  {
   "cell_type": "code",
   "execution_count": null,
   "id": "8879458c",
   "metadata": {},
   "outputs": [
    {
     "ename": "",
     "evalue": "",
     "output_type": "error",
     "traceback": [
      "\u001b[1;31mRunning cells with '.venv (Python 3.12.2)' requires the ipykernel package.\n",
      "\u001b[1;31mInstall 'ipykernel' into the Python environment. \n",
      "\u001b[1;31mCommand: 'c:/Users/PMLS/Desktop/langgraph/.venv/Scripts/python.exe -m pip install ipykernel -U --force-reinstall'"
     ]
    }
   ],
   "source": [
    "from langgraph.graph import StateGraph, START, END\n",
    "from typing import TypedDict"
   ]
  },
  {
   "cell_type": "code",
   "execution_count": null,
   "id": "f084d3c2",
   "metadata": {},
   "outputs": [],
   "source": [
    "class SumState(TypedDict):\n",
    "\n",
    "    num1 = int,\n",
    "    num2 = int,\n",
    "    result = int\n"
   ]
  },
  {
   "cell_type": "code",
   "execution_count": null,
   "id": "5e88c884",
   "metadata": {},
   "outputs": [],
   "source": [
    "def sum(state: SumState) -> SumState:\n",
    "\n",
    "    state['result'] = state['num1'] + state['num2']\n",
    "\n",
    "    return state"
   ]
  },
  {
   "cell_type": "code",
   "execution_count": null,
   "id": "98a57f0f",
   "metadata": {},
   "outputs": [],
   "source": [
    "graph = StateGraph()\n",
    "\n",
    "graph.add_node('sum', sum)\n",
    "\n",
    "graph.add_edge(START, 'sum')\n",
    "graph.add_edge('sum', END)\n",
    "\n",
    "workflow = graph.compile()"
   ]
  },
  {
   "cell_type": "code",
   "execution_count": null,
   "id": "f578648a",
   "metadata": {},
   "outputs": [],
   "source": [
    "initial_state = {a=12, b=23}\n",
    "\n",
    "final_result = workflow.invoke(initial_state)\n",
    "\n",
    "print(final_result)"
   ]
  }
 ],
 "metadata": {
  "kernelspec": {
   "display_name": ".venv",
   "language": "python",
   "name": "python3"
  },
  "language_info": {
   "name": "python",
   "version": "3.12.2"
  }
 },
 "nbformat": 4,
 "nbformat_minor": 5
}
