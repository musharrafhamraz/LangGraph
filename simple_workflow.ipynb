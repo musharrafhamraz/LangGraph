{
 "cells": [
  {
   "cell_type": "code",
   "execution_count": 1,
   "id": "8879458c",
   "metadata": {},
   "outputs": [],
   "source": [
    "from langgraph.graph import StateGraph, START, END\n",
    "from typing import TypedDict"
   ]
  },
  {
   "cell_type": "code",
   "execution_count": 12,
   "id": "f084d3c2",
   "metadata": {},
   "outputs": [],
   "source": [
    "class SumState(TypedDict):\n",
    "\n",
    "    num1: int\n",
    "    num2: int\n",
    "    result:  int\n"
   ]
  },
  {
   "cell_type": "code",
   "execution_count": 13,
   "id": "5e88c884",
   "metadata": {},
   "outputs": [],
   "source": [
    "def sum(state: SumState) -> SumState:\n",
    "\n",
    "    a = state['num1']\n",
    "    b = state['num2']\n",
    "\n",
    "    result = a + b\n",
    "\n",
    "    state['result'] = result\n",
    "\n",
    "    return state"
   ]
  },
  {
   "cell_type": "code",
   "execution_count": 14,
   "id": "98a57f0f",
   "metadata": {},
   "outputs": [],
   "source": [
    "graph = StateGraph(SumState)\n",
    "\n",
    "graph.add_node('sum', sum)\n",
    "\n",
    "graph.add_edge(START, 'sum')\n",
    "graph.add_edge('sum', END)\n",
    "\n",
    "workflow = graph.compile()"
   ]
  },
  {
   "cell_type": "code",
   "execution_count": 15,
   "id": "f578648a",
   "metadata": {},
   "outputs": [
    {
     "name": "stdout",
     "output_type": "stream",
     "text": [
      "{'num1': 21, 'num2': 12, 'result': 33}\n"
     ]
    }
   ],
   "source": [
    "initial_state = {'num1':21, 'num2':12}\n",
    "\n",
    "final_result = workflow.invoke(initial_state)\n",
    "\n",
    "print(final_result)"
   ]
  },
  {
   "cell_type": "code",
   "execution_count": null,
   "id": "357d472b",
   "metadata": {},
   "outputs": [],
   "source": []
  }
 ],
 "metadata": {
  "kernelspec": {
   "display_name": ".venv",
   "language": "python",
   "name": "python3"
  },
  "language_info": {
   "codemirror_mode": {
    "name": "ipython",
    "version": 3
   },
   "file_extension": ".py",
   "mimetype": "text/x-python",
   "name": "python",
   "nbconvert_exporter": "python",
   "pygments_lexer": "ipython3",
   "version": "3.12.2"
  }
 },
 "nbformat": 4,
 "nbformat_minor": 5
}
